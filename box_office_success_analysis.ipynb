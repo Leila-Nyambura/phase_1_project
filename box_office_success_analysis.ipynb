{
 "cells": [
  {
   "cell_type": "markdown",
   "metadata": {},
   "source": [
    "# Box Office Success Analysis"
   ]
  },
  {
   "cell_type": "markdown",
   "metadata": {},
   "source": [
    "## Overview"
   ]
  },
  {
   "cell_type": "markdown",
   "metadata": {},
   "source": [
    "The project analysis goal is to provide insights to Microsoft for a new movie studio on what types of films are currently successful at the box office. I will analyze a movie dataset from [The Movie Data Base](https://www.themoviedb.org/) website to identify key trends and patterns, ultimately providing actionable recommendations. Microsoft can use this analysis to decide on what type of film to create."
   ]
  },
  {
   "cell_type": "markdown",
   "metadata": {},
   "source": [
    "## Business Problem"
   ]
  },
  {
   "cell_type": "markdown",
   "metadata": {},
   "source": [
    "Microsoft sees all the big companies creating original video content and they want to get in on the fun. They have decided to create a new movie studio, but they don’t know anything about creating movies. I will explore what types of films are currently doing the best at the box office. I will then translate those findings into actionable insights that the head of Microsoft's new movie studio can use to help decide what type of films to create. Objectives:\n",
    "- Identify genres that are performing well at the box office.\n",
    "- Determine key attributes associated with successful films.\n",
    "- Provide three actionable recommendations for the new movie studio."
   ]
  },
  {
   "cell_type": "markdown",
   "metadata": {},
   "source": [
    "## Data Understanding"
   ]
  },
  {
   "cell_type": "code",
   "execution_count": 1,
   "metadata": {},
   "outputs": [],
   "source": [
    "#importing the necessary libraries\n",
    "import pandas as pd\n",
    "import numpy as np\n",
    "import seaborn as sns\n",
    "import matplotlib.pyplot as plt\n",
    "\n",
    "#Setting %matplotlib inline so the graphs will display immediately below the cell that creates them\n",
    "%matplotlib inline"
   ]
  },
  {
   "cell_type": "code",
   "execution_count": 2,
   "metadata": {},
   "outputs": [
    {
     "data": {
      "text/html": [
       "<div>\n",
       "<style scoped>\n",
       "    .dataframe tbody tr th:only-of-type {\n",
       "        vertical-align: middle;\n",
       "    }\n",
       "\n",
       "    .dataframe tbody tr th {\n",
       "        vertical-align: top;\n",
       "    }\n",
       "\n",
       "    .dataframe thead th {\n",
       "        text-align: right;\n",
       "    }\n",
       "</style>\n",
       "<table border=\"1\" class=\"dataframe\">\n",
       "  <thead>\n",
       "    <tr style=\"text-align: right;\">\n",
       "      <th></th>\n",
       "      <th>genre_ids</th>\n",
       "      <th>id</th>\n",
       "      <th>original_language</th>\n",
       "      <th>original_title</th>\n",
       "      <th>popularity</th>\n",
       "      <th>release_date</th>\n",
       "      <th>title</th>\n",
       "      <th>vote_average</th>\n",
       "      <th>vote_count</th>\n",
       "    </tr>\n",
       "  </thead>\n",
       "  <tbody>\n",
       "    <tr>\n",
       "      <th>0</th>\n",
       "      <td>[12, 14, 10751]</td>\n",
       "      <td>12444</td>\n",
       "      <td>en</td>\n",
       "      <td>Harry Potter and the Deathly Hallows: Part 1</td>\n",
       "      <td>33.533</td>\n",
       "      <td>2010-11-19</td>\n",
       "      <td>Harry Potter and the Deathly Hallows: Part 1</td>\n",
       "      <td>7.7</td>\n",
       "      <td>10788</td>\n",
       "    </tr>\n",
       "    <tr>\n",
       "      <th>1</th>\n",
       "      <td>[14, 12, 16, 10751]</td>\n",
       "      <td>10191</td>\n",
       "      <td>en</td>\n",
       "      <td>How to Train Your Dragon</td>\n",
       "      <td>28.734</td>\n",
       "      <td>2010-03-26</td>\n",
       "      <td>How to Train Your Dragon</td>\n",
       "      <td>7.7</td>\n",
       "      <td>7610</td>\n",
       "    </tr>\n",
       "    <tr>\n",
       "      <th>2</th>\n",
       "      <td>[12, 28, 878]</td>\n",
       "      <td>10138</td>\n",
       "      <td>en</td>\n",
       "      <td>Iron Man 2</td>\n",
       "      <td>28.515</td>\n",
       "      <td>2010-05-07</td>\n",
       "      <td>Iron Man 2</td>\n",
       "      <td>6.8</td>\n",
       "      <td>12368</td>\n",
       "    </tr>\n",
       "    <tr>\n",
       "      <th>3</th>\n",
       "      <td>[16, 35, 10751]</td>\n",
       "      <td>862</td>\n",
       "      <td>en</td>\n",
       "      <td>Toy Story</td>\n",
       "      <td>28.005</td>\n",
       "      <td>1995-11-22</td>\n",
       "      <td>Toy Story</td>\n",
       "      <td>7.9</td>\n",
       "      <td>10174</td>\n",
       "    </tr>\n",
       "    <tr>\n",
       "      <th>4</th>\n",
       "      <td>[28, 878, 12]</td>\n",
       "      <td>27205</td>\n",
       "      <td>en</td>\n",
       "      <td>Inception</td>\n",
       "      <td>27.920</td>\n",
       "      <td>2010-07-16</td>\n",
       "      <td>Inception</td>\n",
       "      <td>8.3</td>\n",
       "      <td>22186</td>\n",
       "    </tr>\n",
       "    <tr>\n",
       "      <th>...</th>\n",
       "      <td>...</td>\n",
       "      <td>...</td>\n",
       "      <td>...</td>\n",
       "      <td>...</td>\n",
       "      <td>...</td>\n",
       "      <td>...</td>\n",
       "      <td>...</td>\n",
       "      <td>...</td>\n",
       "      <td>...</td>\n",
       "    </tr>\n",
       "    <tr>\n",
       "      <th>26512</th>\n",
       "      <td>[27, 18]</td>\n",
       "      <td>488143</td>\n",
       "      <td>en</td>\n",
       "      <td>Laboratory Conditions</td>\n",
       "      <td>0.600</td>\n",
       "      <td>2018-10-13</td>\n",
       "      <td>Laboratory Conditions</td>\n",
       "      <td>0.0</td>\n",
       "      <td>1</td>\n",
       "    </tr>\n",
       "    <tr>\n",
       "      <th>26513</th>\n",
       "      <td>[18, 53]</td>\n",
       "      <td>485975</td>\n",
       "      <td>en</td>\n",
       "      <td>_EXHIBIT_84xxx_</td>\n",
       "      <td>0.600</td>\n",
       "      <td>2018-05-01</td>\n",
       "      <td>_EXHIBIT_84xxx_</td>\n",
       "      <td>0.0</td>\n",
       "      <td>1</td>\n",
       "    </tr>\n",
       "    <tr>\n",
       "      <th>26514</th>\n",
       "      <td>[14, 28, 12]</td>\n",
       "      <td>381231</td>\n",
       "      <td>en</td>\n",
       "      <td>The Last One</td>\n",
       "      <td>0.600</td>\n",
       "      <td>2018-10-01</td>\n",
       "      <td>The Last One</td>\n",
       "      <td>0.0</td>\n",
       "      <td>1</td>\n",
       "    </tr>\n",
       "    <tr>\n",
       "      <th>26515</th>\n",
       "      <td>[10751, 12, 28]</td>\n",
       "      <td>366854</td>\n",
       "      <td>en</td>\n",
       "      <td>Trailer Made</td>\n",
       "      <td>0.600</td>\n",
       "      <td>2018-06-22</td>\n",
       "      <td>Trailer Made</td>\n",
       "      <td>0.0</td>\n",
       "      <td>1</td>\n",
       "    </tr>\n",
       "    <tr>\n",
       "      <th>26516</th>\n",
       "      <td>[53, 27]</td>\n",
       "      <td>309885</td>\n",
       "      <td>en</td>\n",
       "      <td>The Church</td>\n",
       "      <td>0.600</td>\n",
       "      <td>2018-10-05</td>\n",
       "      <td>The Church</td>\n",
       "      <td>0.0</td>\n",
       "      <td>1</td>\n",
       "    </tr>\n",
       "  </tbody>\n",
       "</table>\n",
       "<p>26517 rows × 9 columns</p>\n",
       "</div>"
      ],
      "text/plain": [
       "                 genre_ids      id original_language  \\\n",
       "0          [12, 14, 10751]   12444                en   \n",
       "1      [14, 12, 16, 10751]   10191                en   \n",
       "2            [12, 28, 878]   10138                en   \n",
       "3          [16, 35, 10751]     862                en   \n",
       "4            [28, 878, 12]   27205                en   \n",
       "...                    ...     ...               ...   \n",
       "26512             [27, 18]  488143                en   \n",
       "26513             [18, 53]  485975                en   \n",
       "26514         [14, 28, 12]  381231                en   \n",
       "26515      [10751, 12, 28]  366854                en   \n",
       "26516             [53, 27]  309885                en   \n",
       "\n",
       "                                     original_title  popularity release_date  \\\n",
       "0      Harry Potter and the Deathly Hallows: Part 1      33.533   2010-11-19   \n",
       "1                          How to Train Your Dragon      28.734   2010-03-26   \n",
       "2                                        Iron Man 2      28.515   2010-05-07   \n",
       "3                                         Toy Story      28.005   1995-11-22   \n",
       "4                                         Inception      27.920   2010-07-16   \n",
       "...                                             ...         ...          ...   \n",
       "26512                         Laboratory Conditions       0.600   2018-10-13   \n",
       "26513                               _EXHIBIT_84xxx_       0.600   2018-05-01   \n",
       "26514                                  The Last One       0.600   2018-10-01   \n",
       "26515                                  Trailer Made       0.600   2018-06-22   \n",
       "26516                                    The Church       0.600   2018-10-05   \n",
       "\n",
       "                                              title  vote_average  vote_count  \n",
       "0      Harry Potter and the Deathly Hallows: Part 1           7.7       10788  \n",
       "1                          How to Train Your Dragon           7.7        7610  \n",
       "2                                        Iron Man 2           6.8       12368  \n",
       "3                                         Toy Story           7.9       10174  \n",
       "4                                         Inception           8.3       22186  \n",
       "...                                             ...           ...         ...  \n",
       "26512                         Laboratory Conditions           0.0           1  \n",
       "26513                               _EXHIBIT_84xxx_           0.0           1  \n",
       "26514                                  The Last One           0.0           1  \n",
       "26515                                  Trailer Made           0.0           1  \n",
       "26516                                    The Church           0.0           1  \n",
       "\n",
       "[26517 rows x 9 columns]"
      ]
     },
     "execution_count": 2,
     "metadata": {},
     "output_type": "execute_result"
    }
   ],
   "source": [
    "#Loading and previewing the movie dataset\n",
    "#Including index_col=0 in order to avoid creating an extra Id column\n",
    "df = pd.read_csv('tmdb.movies.csv', index_col=0)\n",
    "df"
   ]
  },
  {
   "cell_type": "markdown",
   "metadata": {},
   "source": [
    "### Checking the data"
   ]
  },
  {
   "cell_type": "code",
   "execution_count": 3,
   "metadata": {},
   "outputs": [
    {
     "data": {
      "text/html": [
       "<div>\n",
       "<style scoped>\n",
       "    .dataframe tbody tr th:only-of-type {\n",
       "        vertical-align: middle;\n",
       "    }\n",
       "\n",
       "    .dataframe tbody tr th {\n",
       "        vertical-align: top;\n",
       "    }\n",
       "\n",
       "    .dataframe thead th {\n",
       "        text-align: right;\n",
       "    }\n",
       "</style>\n",
       "<table border=\"1\" class=\"dataframe\">\n",
       "  <thead>\n",
       "    <tr style=\"text-align: right;\">\n",
       "      <th></th>\n",
       "      <th>genre_ids</th>\n",
       "      <th>id</th>\n",
       "      <th>original_language</th>\n",
       "      <th>original_title</th>\n",
       "      <th>popularity</th>\n",
       "      <th>release_date</th>\n",
       "      <th>title</th>\n",
       "      <th>vote_average</th>\n",
       "      <th>vote_count</th>\n",
       "    </tr>\n",
       "  </thead>\n",
       "  <tbody>\n",
       "    <tr>\n",
       "      <th>0</th>\n",
       "      <td>[12, 14, 10751]</td>\n",
       "      <td>12444</td>\n",
       "      <td>en</td>\n",
       "      <td>Harry Potter and the Deathly Hallows: Part 1</td>\n",
       "      <td>33.533</td>\n",
       "      <td>2010-11-19</td>\n",
       "      <td>Harry Potter and the Deathly Hallows: Part 1</td>\n",
       "      <td>7.7</td>\n",
       "      <td>10788</td>\n",
       "    </tr>\n",
       "    <tr>\n",
       "      <th>1</th>\n",
       "      <td>[14, 12, 16, 10751]</td>\n",
       "      <td>10191</td>\n",
       "      <td>en</td>\n",
       "      <td>How to Train Your Dragon</td>\n",
       "      <td>28.734</td>\n",
       "      <td>2010-03-26</td>\n",
       "      <td>How to Train Your Dragon</td>\n",
       "      <td>7.7</td>\n",
       "      <td>7610</td>\n",
       "    </tr>\n",
       "    <tr>\n",
       "      <th>2</th>\n",
       "      <td>[12, 28, 878]</td>\n",
       "      <td>10138</td>\n",
       "      <td>en</td>\n",
       "      <td>Iron Man 2</td>\n",
       "      <td>28.515</td>\n",
       "      <td>2010-05-07</td>\n",
       "      <td>Iron Man 2</td>\n",
       "      <td>6.8</td>\n",
       "      <td>12368</td>\n",
       "    </tr>\n",
       "    <tr>\n",
       "      <th>3</th>\n",
       "      <td>[16, 35, 10751]</td>\n",
       "      <td>862</td>\n",
       "      <td>en</td>\n",
       "      <td>Toy Story</td>\n",
       "      <td>28.005</td>\n",
       "      <td>1995-11-22</td>\n",
       "      <td>Toy Story</td>\n",
       "      <td>7.9</td>\n",
       "      <td>10174</td>\n",
       "    </tr>\n",
       "    <tr>\n",
       "      <th>4</th>\n",
       "      <td>[28, 878, 12]</td>\n",
       "      <td>27205</td>\n",
       "      <td>en</td>\n",
       "      <td>Inception</td>\n",
       "      <td>27.920</td>\n",
       "      <td>2010-07-16</td>\n",
       "      <td>Inception</td>\n",
       "      <td>8.3</td>\n",
       "      <td>22186</td>\n",
       "    </tr>\n",
       "  </tbody>\n",
       "</table>\n",
       "</div>"
      ],
      "text/plain": [
       "             genre_ids     id original_language  \\\n",
       "0      [12, 14, 10751]  12444                en   \n",
       "1  [14, 12, 16, 10751]  10191                en   \n",
       "2        [12, 28, 878]  10138                en   \n",
       "3      [16, 35, 10751]    862                en   \n",
       "4        [28, 878, 12]  27205                en   \n",
       "\n",
       "                                 original_title  popularity release_date  \\\n",
       "0  Harry Potter and the Deathly Hallows: Part 1      33.533   2010-11-19   \n",
       "1                      How to Train Your Dragon      28.734   2010-03-26   \n",
       "2                                    Iron Man 2      28.515   2010-05-07   \n",
       "3                                     Toy Story      28.005   1995-11-22   \n",
       "4                                     Inception      27.920   2010-07-16   \n",
       "\n",
       "                                          title  vote_average  vote_count  \n",
       "0  Harry Potter and the Deathly Hallows: Part 1           7.7       10788  \n",
       "1                      How to Train Your Dragon           7.7        7610  \n",
       "2                                    Iron Man 2           6.8       12368  \n",
       "3                                     Toy Story           7.9       10174  \n",
       "4                                     Inception           8.3       22186  "
      ]
     },
     "execution_count": 3,
     "metadata": {},
     "output_type": "execute_result"
    }
   ],
   "source": [
    "# Previewing the top of our dataset\n",
    "df.head()"
   ]
  },
  {
   "cell_type": "code",
   "execution_count": 4,
   "metadata": {},
   "outputs": [
    {
     "data": {
      "text/html": [
       "<div>\n",
       "<style scoped>\n",
       "    .dataframe tbody tr th:only-of-type {\n",
       "        vertical-align: middle;\n",
       "    }\n",
       "\n",
       "    .dataframe tbody tr th {\n",
       "        vertical-align: top;\n",
       "    }\n",
       "\n",
       "    .dataframe thead th {\n",
       "        text-align: right;\n",
       "    }\n",
       "</style>\n",
       "<table border=\"1\" class=\"dataframe\">\n",
       "  <thead>\n",
       "    <tr style=\"text-align: right;\">\n",
       "      <th></th>\n",
       "      <th>genre_ids</th>\n",
       "      <th>id</th>\n",
       "      <th>original_language</th>\n",
       "      <th>original_title</th>\n",
       "      <th>popularity</th>\n",
       "      <th>release_date</th>\n",
       "      <th>title</th>\n",
       "      <th>vote_average</th>\n",
       "      <th>vote_count</th>\n",
       "    </tr>\n",
       "  </thead>\n",
       "  <tbody>\n",
       "    <tr>\n",
       "      <th>26512</th>\n",
       "      <td>[27, 18]</td>\n",
       "      <td>488143</td>\n",
       "      <td>en</td>\n",
       "      <td>Laboratory Conditions</td>\n",
       "      <td>0.6</td>\n",
       "      <td>2018-10-13</td>\n",
       "      <td>Laboratory Conditions</td>\n",
       "      <td>0.0</td>\n",
       "      <td>1</td>\n",
       "    </tr>\n",
       "    <tr>\n",
       "      <th>26513</th>\n",
       "      <td>[18, 53]</td>\n",
       "      <td>485975</td>\n",
       "      <td>en</td>\n",
       "      <td>_EXHIBIT_84xxx_</td>\n",
       "      <td>0.6</td>\n",
       "      <td>2018-05-01</td>\n",
       "      <td>_EXHIBIT_84xxx_</td>\n",
       "      <td>0.0</td>\n",
       "      <td>1</td>\n",
       "    </tr>\n",
       "    <tr>\n",
       "      <th>26514</th>\n",
       "      <td>[14, 28, 12]</td>\n",
       "      <td>381231</td>\n",
       "      <td>en</td>\n",
       "      <td>The Last One</td>\n",
       "      <td>0.6</td>\n",
       "      <td>2018-10-01</td>\n",
       "      <td>The Last One</td>\n",
       "      <td>0.0</td>\n",
       "      <td>1</td>\n",
       "    </tr>\n",
       "    <tr>\n",
       "      <th>26515</th>\n",
       "      <td>[10751, 12, 28]</td>\n",
       "      <td>366854</td>\n",
       "      <td>en</td>\n",
       "      <td>Trailer Made</td>\n",
       "      <td>0.6</td>\n",
       "      <td>2018-06-22</td>\n",
       "      <td>Trailer Made</td>\n",
       "      <td>0.0</td>\n",
       "      <td>1</td>\n",
       "    </tr>\n",
       "    <tr>\n",
       "      <th>26516</th>\n",
       "      <td>[53, 27]</td>\n",
       "      <td>309885</td>\n",
       "      <td>en</td>\n",
       "      <td>The Church</td>\n",
       "      <td>0.6</td>\n",
       "      <td>2018-10-05</td>\n",
       "      <td>The Church</td>\n",
       "      <td>0.0</td>\n",
       "      <td>1</td>\n",
       "    </tr>\n",
       "  </tbody>\n",
       "</table>\n",
       "</div>"
      ],
      "text/plain": [
       "             genre_ids      id original_language         original_title  \\\n",
       "26512         [27, 18]  488143                en  Laboratory Conditions   \n",
       "26513         [18, 53]  485975                en        _EXHIBIT_84xxx_   \n",
       "26514     [14, 28, 12]  381231                en           The Last One   \n",
       "26515  [10751, 12, 28]  366854                en           Trailer Made   \n",
       "26516         [53, 27]  309885                en             The Church   \n",
       "\n",
       "       popularity release_date                  title  vote_average  \\\n",
       "26512         0.6   2018-10-13  Laboratory Conditions           0.0   \n",
       "26513         0.6   2018-05-01        _EXHIBIT_84xxx_           0.0   \n",
       "26514         0.6   2018-10-01           The Last One           0.0   \n",
       "26515         0.6   2018-06-22           Trailer Made           0.0   \n",
       "26516         0.6   2018-10-05             The Church           0.0   \n",
       "\n",
       "       vote_count  \n",
       "26512           1  \n",
       "26513           1  \n",
       "26514           1  \n",
       "26515           1  \n",
       "26516           1  "
      ]
     },
     "execution_count": 4,
     "metadata": {},
     "output_type": "execute_result"
    }
   ],
   "source": [
    "# Previewing the bottom of our dataset\n",
    "df.tail()"
   ]
  },
  {
   "cell_type": "code",
   "execution_count": 5,
   "metadata": {},
   "outputs": [
    {
     "data": {
      "text/plain": [
       "Index(['genre_ids', 'id', 'original_language', 'original_title', 'popularity',\n",
       "       'release_date', 'title', 'vote_average', 'vote_count'],\n",
       "      dtype='object')"
      ]
     },
     "execution_count": 5,
     "metadata": {},
     "output_type": "execute_result"
    }
   ],
   "source": [
    "# Checking if columns are named appropriately\n",
    "df.columns"
   ]
  },
  {
   "cell_type": "code",
   "execution_count": 6,
   "metadata": {},
   "outputs": [
    {
     "data": {
      "text/plain": [
       "(26517, 9)"
      ]
     },
     "execution_count": 6,
     "metadata": {},
     "output_type": "execute_result"
    }
   ],
   "source": [
    "# Checking the shape of the data\n",
    "df.shape"
   ]
  },
  {
   "cell_type": "code",
   "execution_count": 7,
   "metadata": {},
   "outputs": [
    {
     "name": "stdout",
     "output_type": "stream",
     "text": [
      "<class 'pandas.core.frame.DataFrame'>\n",
      "Int64Index: 26517 entries, 0 to 26516\n",
      "Data columns (total 9 columns):\n",
      " #   Column             Non-Null Count  Dtype  \n",
      "---  ------             --------------  -----  \n",
      " 0   genre_ids          26517 non-null  object \n",
      " 1   id                 26517 non-null  int64  \n",
      " 2   original_language  26517 non-null  object \n",
      " 3   original_title     26517 non-null  object \n",
      " 4   popularity         26517 non-null  float64\n",
      " 5   release_date       26517 non-null  object \n",
      " 6   title              26517 non-null  object \n",
      " 7   vote_average       26517 non-null  float64\n",
      " 8   vote_count         26517 non-null  int64  \n",
      "dtypes: float64(2), int64(2), object(5)\n",
      "memory usage: 2.0+ MB\n"
     ]
    }
   ],
   "source": [
    "# Checking on the data type\n",
    "df.info()"
   ]
  },
  {
   "cell_type": "code",
   "execution_count": 8,
   "metadata": {},
   "outputs": [
    {
     "data": {
      "text/html": [
       "<div>\n",
       "<style scoped>\n",
       "    .dataframe tbody tr th:only-of-type {\n",
       "        vertical-align: middle;\n",
       "    }\n",
       "\n",
       "    .dataframe tbody tr th {\n",
       "        vertical-align: top;\n",
       "    }\n",
       "\n",
       "    .dataframe thead th {\n",
       "        text-align: right;\n",
       "    }\n",
       "</style>\n",
       "<table border=\"1\" class=\"dataframe\">\n",
       "  <thead>\n",
       "    <tr style=\"text-align: right;\">\n",
       "      <th></th>\n",
       "      <th>id</th>\n",
       "      <th>popularity</th>\n",
       "      <th>vote_average</th>\n",
       "      <th>vote_count</th>\n",
       "    </tr>\n",
       "  </thead>\n",
       "  <tbody>\n",
       "    <tr>\n",
       "      <th>count</th>\n",
       "      <td>26517.000000</td>\n",
       "      <td>26517.000000</td>\n",
       "      <td>26517.000000</td>\n",
       "      <td>26517.000000</td>\n",
       "    </tr>\n",
       "    <tr>\n",
       "      <th>mean</th>\n",
       "      <td>295050.153260</td>\n",
       "      <td>3.130912</td>\n",
       "      <td>5.991281</td>\n",
       "      <td>194.224837</td>\n",
       "    </tr>\n",
       "    <tr>\n",
       "      <th>std</th>\n",
       "      <td>153661.615648</td>\n",
       "      <td>4.355229</td>\n",
       "      <td>1.852946</td>\n",
       "      <td>960.961095</td>\n",
       "    </tr>\n",
       "    <tr>\n",
       "      <th>min</th>\n",
       "      <td>27.000000</td>\n",
       "      <td>0.600000</td>\n",
       "      <td>0.000000</td>\n",
       "      <td>1.000000</td>\n",
       "    </tr>\n",
       "    <tr>\n",
       "      <th>25%</th>\n",
       "      <td>157851.000000</td>\n",
       "      <td>0.600000</td>\n",
       "      <td>5.000000</td>\n",
       "      <td>2.000000</td>\n",
       "    </tr>\n",
       "    <tr>\n",
       "      <th>50%</th>\n",
       "      <td>309581.000000</td>\n",
       "      <td>1.374000</td>\n",
       "      <td>6.000000</td>\n",
       "      <td>5.000000</td>\n",
       "    </tr>\n",
       "    <tr>\n",
       "      <th>75%</th>\n",
       "      <td>419542.000000</td>\n",
       "      <td>3.694000</td>\n",
       "      <td>7.000000</td>\n",
       "      <td>28.000000</td>\n",
       "    </tr>\n",
       "    <tr>\n",
       "      <th>max</th>\n",
       "      <td>608444.000000</td>\n",
       "      <td>80.773000</td>\n",
       "      <td>10.000000</td>\n",
       "      <td>22186.000000</td>\n",
       "    </tr>\n",
       "  </tbody>\n",
       "</table>\n",
       "</div>"
      ],
      "text/plain": [
       "                  id    popularity  vote_average    vote_count\n",
       "count   26517.000000  26517.000000  26517.000000  26517.000000\n",
       "mean   295050.153260      3.130912      5.991281    194.224837\n",
       "std    153661.615648      4.355229      1.852946    960.961095\n",
       "min        27.000000      0.600000      0.000000      1.000000\n",
       "25%    157851.000000      0.600000      5.000000      2.000000\n",
       "50%    309581.000000      1.374000      6.000000      5.000000\n",
       "75%    419542.000000      3.694000      7.000000     28.000000\n",
       "max    608444.000000     80.773000     10.000000  22186.000000"
      ]
     },
     "execution_count": 8,
     "metadata": {},
     "output_type": "execute_result"
    }
   ],
   "source": [
    "# Checking the structure of the dataset to identify anomalies\n",
    "df.describe()"
   ]
  },
  {
   "cell_type": "code",
   "execution_count": 9,
   "metadata": {
    "scrolled": true
   },
   "outputs": [
    {
     "data": {
      "text/plain": [
       "genre_ids            0\n",
       "id                   0\n",
       "original_language    0\n",
       "original_title       0\n",
       "popularity           0\n",
       "release_date         0\n",
       "title                0\n",
       "vote_average         0\n",
       "vote_count           0\n",
       "dtype: int64"
      ]
     },
     "execution_count": 9,
     "metadata": {},
     "output_type": "execute_result"
    }
   ],
   "source": [
    "# Checking for missing values\n",
    "df.isnull().sum()"
   ]
  },
  {
   "cell_type": "markdown",
   "metadata": {},
   "source": [
    "## Data Preparation\n",
    "### Data Cleaning\n",
    "Here, I'm making the data easier to work with by dropping any duplicate values in the dataset."
   ]
  },
  {
   "cell_type": "code",
   "execution_count": 10,
   "metadata": {},
   "outputs": [
    {
     "data": {
      "text/plain": [
       "1020"
      ]
     },
     "execution_count": 10,
     "metadata": {},
     "output_type": "execute_result"
    }
   ],
   "source": [
    "# Checking for duplicates\n",
    "df.duplicated().sum()"
   ]
  },
  {
   "cell_type": "code",
   "execution_count": 11,
   "metadata": {},
   "outputs": [
    {
     "data": {
      "text/plain": [
       "False    25497\n",
       "True      1020\n",
       "dtype: int64"
      ]
     },
     "execution_count": 11,
     "metadata": {},
     "output_type": "execute_result"
    }
   ],
   "source": [
    "df.duplicated().value_counts()"
   ]
  },
  {
   "cell_type": "markdown",
   "metadata": {},
   "source": [
    "Expected output is that of a boolean data type where, <b>'False'</b> represents non-duplicate values while <b>'True'</b> represents duplicate values. Seeing as the number of duplicates is not high, I'll drop them from the dataset."
   ]
  },
  {
   "cell_type": "code",
   "execution_count": 12,
   "metadata": {},
   "outputs": [
    {
     "data": {
      "text/plain": [
       "(25497, 9)"
      ]
     },
     "execution_count": 12,
     "metadata": {},
     "output_type": "execute_result"
    }
   ],
   "source": [
    "# Remove duplicates\n",
    "df = df.drop_duplicates()\n",
    "df.shape"
   ]
  },
  {
   "cell_type": "markdown",
   "metadata": {},
   "source": [
    "Confirming that all duplicates have been dropped."
   ]
  },
  {
   "cell_type": "code",
   "execution_count": 13,
   "metadata": {},
   "outputs": [
    {
     "data": {
      "text/plain": [
       "False    25497\n",
       "dtype: int64"
      ]
     },
     "execution_count": 13,
     "metadata": {},
     "output_type": "execute_result"
    }
   ],
   "source": [
    "# Rechecking for duplicates\n",
    "df.duplicated().value_counts()"
   ]
  },
  {
   "cell_type": "markdown",
   "metadata": {},
   "source": [
    "From this output, duplicates are no longer present since only <b>False</b> is outputed."
   ]
  },
  {
   "cell_type": "markdown",
   "metadata": {},
   "source": [
    "## Distribution of Numerical Columns\n",
    "Looking at the distribution of the dataset's numeric columns."
   ]
  },
  {
   "cell_type": "code",
   "execution_count": 14,
   "metadata": {},
   "outputs": [
    {
     "data": {
      "text/plain": [
       "genre_ids             2477\n",
       "id                   25497\n",
       "original_language       76\n",
       "original_title       24835\n",
       "popularity            7425\n",
       "release_date          3433\n",
       "title                24688\n",
       "vote_average            91\n",
       "vote_count            1693\n",
       "dtype: int64"
      ]
     },
     "execution_count": 14,
     "metadata": {},
     "output_type": "execute_result"
    }
   ],
   "source": [
    "# Checking for unique values\n",
    "df.nunique()"
   ]
  },
  {
   "cell_type": "markdown",
   "metadata": {},
   "source": [
    "### 1. Distribution of Popularity"
   ]
  },
  {
   "cell_type": "code",
   "execution_count": 15,
   "metadata": {},
   "outputs": [
    {
     "data": {
      "image/png": "[encoded data removed]",
      "text/plain": [
       "<Figure size 720x432 with 1 Axes>"
      ]
     },
     "metadata": {
      "needs_background": "light"
     },
     "output_type": "display_data"
    }
   ],
   "source": [
    "# Plot the distribution of 'popularity'\n",
    "plt.figure(figsize=(10, 6))\n",
    "sns.histplot(df['popularity'], bins=30, kde=True)\n",
    "plt.title('Distribution of Popularity')\n",
    "plt.xlabel('Popularity')\n",
    "plt.ylabel('Frequency')\n",
    "plt.show()"
   ]
  },
  {
   "cell_type": "markdown",
   "metadata": {},
   "source": [
    "<b>Explanation:</b>\n",
    "\n",
    "- Purpose: This plot visualizes the distribution of the 'popularity' scores of movies in the dataset.\n",
    "- X-axis (Popularity): Represents the popularity score of movies.\n",
    "- Y-axis (Frequency): Represents the number of movies that fall within each popularity score bin.\n",
    "\n",
    "<b>Observation:</b> The majority of the movies have low popularity scores, as indicated by the high frequency on the left side of the plot. The distribution is heavily right-skewed, with a long tail extending towards higher popularity scores. This suggests that while most movies have low popularity scores, a few movies achieve very high popularity."
   ]
  },
  {
   "cell_type": "markdown",
   "metadata": {},
   "source": [
    "### 2. Distribution of Vote Average"
   ]
  },
  {
   "cell_type": "code",
   "execution_count": 16,
   "metadata": {},
   "outputs": [
    {
     "data": {
      "image/png": "[encoded data removed]",
      "text/plain": [
       "<Figure size 720x432 with 1 Axes>"
      ]
     },
     "metadata": {
      "needs_background": "light"
     },
     "output_type": "display_data"
    }
   ],
   "source": [
    "# Plot the distribution of 'vote_average'\n",
    "plt.figure(figsize=(10, 6))\n",
    "sns.histplot(df['vote_average'], bins=30, kde=True)\n",
    "plt.title('Distribution of Vote Average')\n",
    "plt.xlabel('Vote Average')\n",
    "plt.ylabel('Frequency')\n",
    "plt.show()"
   ]
  },
  {
   "cell_type": "markdown",
   "metadata": {},
   "source": [
    "<b>Explanation:</b>\n",
    "\n",
    "- Purpose: This plot visualizes the distribution of average vote ratings given to movies.\n",
    "- X-axis (Vote Average): Represents the average vote rating of movies, which typically ranges from 0 to 10.\n",
    "- Y-axis (Frequency): Represents the number of movies that fall within each vote average bin.\n",
    "\n",
    "<b>Observation:</b> The vote averages form a roughly normal distribution, peaking around a vote average of 6-7. This indicates that most movies are rated around this mid-point. There are fewer movies with very low (0-2) or very high (9-10) ratings."
   ]
  },
  {
   "cell_type": "markdown",
   "metadata": {},
   "source": [
    "### 3. Distribution of Vote Count"
   ]
  },
  {
   "cell_type": "code",
   "execution_count": 17,
   "metadata": {},
   "outputs": [
    {
     "data": {
      "image/png": "[encoded data removed]",
      "text/plain": [
       "<Figure size 720x432 with 1 Axes>"
      ]
     },
     "metadata": {
      "needs_background": "light"
     },
     "output_type": "display_data"
    }
   ],
   "source": [
    "# Plot the distribution of 'vote_count'\n",
    "plt.figure(figsize=(10, 6))\n",
    "sns.histplot(df['vote_count'], bins=30, kde=True)\n",
    "plt.title('Distribution of Vote Count')\n",
    "plt.xlabel('Vote Count')\n",
    "plt.ylabel('Frequency')\n",
    "plt.show()"
   ]
  },
  {
   "cell_type": "markdown",
   "metadata": {},
   "source": [
    "<b>Explanation:</b>\n",
    "\n",
    "- Purpose: This plot visualizes the distribution of the number of votes received by movies.\n",
    "- X-axis (Vote Count): Represents the number of votes a movie has received.\n",
    "- Y-axis (Frequency): Represents the number of movies that fall within each vote count bin.\n",
    "\n",
    "<b>Observation:</b> Similar to the 'popularity' plot, the distribution of vote counts is heavily right-skewed. Most movies have received a low number of votes, as shown by the high frequency on the left side of the plot. A small number of movies have received a very high number of votes, which is represented by the long tail to the right."
   ]
  },
  {
   "cell_type": "markdown",
   "metadata": {},
   "source": [
    "In summary, the three bar plots illustrate key characteristics of the movie dataset:\n",
    "- Popularity: Most movies have low popularity scores with a few movies standing out with very high popularity.\n",
    "- Vote Average: The average movie rating tends to center around 6-7, indicating a general trend towards moderate ratings.\n",
    "- Vote Count: The majority of movies receive a low number of votes, while a select few garner a significant number of votes, showing that audience engagement is highly concentrated.\n",
    "\n",
    "These visualizations help to understand the general trends and outliers in movie ratings and popularity, providing insights that can guide strategic decisions for creating content that aligns with popular and highly-rated movies."
   ]
  },
  {
   "cell_type": "markdown",
   "metadata": {},
   "source": [
    "### Distribution of Categorical Columns\n",
    "Looking at the distribution of the dataset's categorical columns."
   ]
  },
  {
   "cell_type": "code",
   "execution_count": 18,
   "metadata": {},
   "outputs": [
    {
     "data": {
      "image/png": "[encoded data removed]",
      "text/plain": [
       "<Figure size 864x576 with 1 Axes>"
      ]
     },
     "metadata": {
      "needs_background": "light"
     },
     "output_type": "display_data"
    }
   ],
   "source": [
    "# Analyze the frequency distribution of 'original_language'\n",
    "plt.figure(figsize=(12, 8))\n",
    "df['original_language'].value_counts().plot(kind='bar')\n",
    "plt.title('Frequency of Original Language')\n",
    "plt.xlabel('Original Language')\n",
    "plt.ylabel('Number of Movies')\n",
    "plt.show()"
   ]
  },
  {
   "cell_type": "markdown",
   "metadata": {},
   "source": [
    "<b>Explanation:</b>\n",
    "- Purpose: This plot visualizes the distribution of original languages across movies.\n",
    "- X-axis (Original Language): Represents the original languages used in the movies.\n",
    "- Y-axis (Number of Movies): Represents the number of movies produced in each language.\n",
    "\n",
    "<b>Observation:</b> The tallest bar corresponds to the most common language <b>English</b>, while the shorter bars represent less common languages. This visualization provides insights into language diversity in the film industry."
   ]
  },
  {
   "cell_type": "markdown",
   "metadata": {},
   "source": [
    "### Data Analysis"
   ]
  },
  {
   "cell_type": "code",
   "execution_count": 26,
   "metadata": {},
   "outputs": [
    {
     "name": "stderr",
     "output_type": "stream",
     "text": [
      "C:\\Users\\user\\anaconda3\\envs\\learn-env\\lib\\site-packages\\pandas\\core\\indexing.py:1745: SettingWithCopyWarning: \n",
      "A value is trying to be set on a copy of a slice from a DataFrame.\n",
      "Try using .loc[row_indexer,col_indexer] = value instead\n",
      "\n",
      "See the caveats in the documentation: https://pandas.pydata.org/pandas-docs/stable/user_guide/indexing.html#returning-a-view-versus-a-copy\n",
      "  isetter(ilocs[0], value)\n"
     ]
    },
    {
     "data": {
      "image/png": "[encoded data removed]",
      "text/plain": [
       "<Figure size 864x576 with 1 Axes>"
      ]
     },
     "metadata": {
      "needs_background": "light"
     },
     "output_type": "display_data"
    }
   ],
   "source": [
    "# Convert 'release_date' to datetime\n",
    "df.loc[:, 'release_date'] = pd.to_datetime(df['release_date'], errors='coerce')\n",
    "\n",
    "# Extract year from the release date\n",
    "df.loc[:, 'release_year'] = df['release_date'].dt.year\n",
    "\n",
    "# Analyze the number of movies released over the years\n",
    "plt.figure(figsize=(12, 8))\n",
    "df['release_year'].value_counts().sort_index().plot(kind='bar')\n",
    "\n",
    "plt.title('Number of Movies Released Over the Years')\n",
    "plt.xlabel('Year')\n",
    "plt.ylabel('Number of Movies')\n",
    "plt.show()"
   ]
  },
  {
   "cell_type": "markdown",
   "metadata": {},
   "source": [
    "<b>Explanation:</b>\n",
    "- Purpose: This plot provides a visual representation of the trend in movie releases over the years.\n",
    "- X-axis (Year): Represents the years.\n",
    "- Y-axis (Number of movies): Represents the number of movies released per year.\n",
    "\n",
    "<b>Observation:</b> There is a noticeable increase in the number of movies released in the later years. Which is indicative of the growth of the film industry over time. This backs's up Microsoft's observation and clearly illustrates movie production will yield a greater reach and success."
   ]
  },
  {
   "cell_type": "markdown",
   "metadata": {},
   "source": [
    "### Correlation Analysis\n",
    "I used a correlation heatmap to graphical representation how closely related the different variables are within the dataset.\n",
    "- Darker colors represent stronger correlations.\n",
    "- Lighter colors indicate weaker correlations."
   ]
  },
  {
   "cell_type": "code",
   "execution_count": 31,
   "metadata": {},
   "outputs": [
    {
     "data": {
      "image/png": "[encoded data removed]",
      "text/plain": [
       "<Figure size 720x576 with 2 Axes>"
      ]
     },
     "metadata": {
      "needs_background": "light"
     },
     "output_type": "display_data"
    }
   ],
   "source": [
    "# Calculate the correlation matrix\n",
    "correlation_matrix = df[['popularity', 'vote_average', 'vote_count']].corr()\n",
    "\n",
    "# Visualize the correlation matrix\n",
    "plt.figure(figsize=(10, 8))\n",
    "sns.heatmap(correlation_matrix, annot=True, cmap='coolwarm', center=0)\n",
    "plt.title('Correlation Matrix of Numerical Features')\n",
    "plt.show()"
   ]
  },
  {
   "cell_type": "markdown",
   "metadata": {},
   "source": [
    "<b>Explanation</b>\n",
    "The heatmap generated shows the correlation matrix for three numerical features: ‘popularity’, ‘vote_average’, and ‘vote_count’.\n",
    "Analyzing the specific correlations:\n",
    "- ‘popularity’ and ‘vote_count’ have a high positive correlation of approximately 0.69 (indicated by a darker shade).\n",
    "- Both ‘popularity’ and ‘vote_count’ have very low positive correlations with ‘vote_average’, as shown by their respective coefficients of 0.057 and 0.079 (represented by much lighter shades)."
   ]
  },
  {
   "cell_type": "markdown",
   "metadata": {},
   "source": [
    "### Top Movies by Popularity and Votes\n",
    "#### 1. Top Movies by Popularity "
   ]
  },
  {
   "cell_type": "code",
   "execution_count": 28,
   "metadata": {},
   "outputs": [
    {
     "name": "stdout",
     "output_type": "stream",
     "text": [
      "                                             title  popularity\n",
      "23811                       Avengers: Infinity War      80.773\n",
      "11019                                    John Wick      78.123\n",
      "23812            Spider-Man: Into the Spider-Verse      60.534\n",
      "11020    The Hobbit: The Battle of the Five Armies      53.783\n",
      "5179                                  The Avengers      50.289\n",
      "11021                      Guardians of the Galaxy      49.606\n",
      "20617                            Blade Runner 2049      48.571\n",
      "23814  Fantastic Beasts: The Crimes of Grindelwald      48.508\n",
      "23815                    Ralph Breaks the Internet      48.057\n",
      "20618                       Spider-Man: Homecoming      46.775\n"
     ]
    }
   ],
   "source": [
    "# Top 10 movies by popularity\n",
    "top_popular_movies = df[['title', 'popularity']].sort_values(by='popularity', ascending=False).head(10)\n",
    "print(top_popular_movies)"
   ]
  },
  {
   "cell_type": "markdown",
   "metadata": {},
   "source": [
    "#### 2. Top Movies by Vote Average"
   ]
  },
  {
   "cell_type": "code",
   "execution_count": 29,
   "metadata": {},
   "outputs": [
    {
     "name": "stdout",
     "output_type": "stream",
     "text": [
      "                                title  vote_average\n",
      "12835        OJ: Trial of the Century          10.0\n",
      "16532                  Psychoacoustic          10.0\n",
      "16521                      Afterimage          10.0\n",
      "16522                          Healed          10.0\n",
      "16523                        SelectED          10.0\n",
      "16524                       No Charge          10.0\n",
      "16525                 If I Could Talk          10.0\n",
      "16526           I've Always Been Here          10.0\n",
      "16527  Dear Sofia: A Royal Collection          10.0\n",
      "16528          Black Water Wilderness          10.0\n"
     ]
    }
   ],
   "source": [
    "# Top 10 movies by vote average\n",
    "top_rated_movies = df[['title', 'vote_average']].sort_values(by='vote_average', ascending=False).head(10)\n",
    "print(top_rated_movies)"
   ]
  },
  {
   "cell_type": "markdown",
   "metadata": {},
   "source": [
    "#### 3. Top Movies by Vote Count"
   ]
  },
  {
   "cell_type": "code",
   "execution_count": 30,
   "metadata": {},
   "outputs": [
    {
     "name": "stdout",
     "output_type": "stream",
     "text": [
      "                         title  vote_count\n",
      "4                    Inception       22186\n",
      "17383                 Deadpool       20175\n",
      "5179              The Avengers       19673\n",
      "6                       Avatar       18676\n",
      "11032             Interstellar       18597\n",
      "11021  Guardians of the Galaxy       17958\n",
      "5189          Django Unchained       15725\n",
      "5235          The Hunger Games       14587\n",
      "14177       Mad Max: Fury Road       14454\n",
      "7881                Iron Man 3       14155\n"
     ]
    }
   ],
   "source": [
    "# Top 10 movies by vote count\n",
    "top_voted_movies = df[['title', 'vote_count']].sort_values(by='vote_count', ascending=False).head(10)\n",
    "print(top_voted_movies)"
   ]
  },
  {
   "cell_type": "markdown",
   "metadata": {},
   "source": [
    "### Conclusions"
   ]
  },
  {
   "cell_type": "code",
   "execution_count": null,
   "metadata": {},
   "outputs": [],
   "source": []
  }
 ],
 "metadata": {
  "kernelspec": {
   "display_name": "Python (learn-env)",
   "language": "python",
   "name": "learn-env"
  },
  "language_info": {
   "codemirror_mode": {
    "name": "ipython",
    "version": 3
   },
   "file_extension": ".py",
   "mimetype": "text/x-python",
   "name": "python",
   "nbconvert_exporter": "python",
   "pygments_lexer": "ipython3",
   "version": "3.8.5"
  }
 },
 "nbformat": 4,
 "nbformat_minor": 4
}
